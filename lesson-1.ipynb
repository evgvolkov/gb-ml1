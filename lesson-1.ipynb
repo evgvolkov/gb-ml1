{
 "cells": [
  {
   "cell_type": "markdown",
   "metadata": {},
   "source": [
    "# Вычисления с помощью Numpy\n",
    "\n",
    "### Задание 1\n",
    "Импортируйте библиотеку Numpy и дайте ей псевдоним np.\n",
    "Создайте массив Numpy под названием a размером 5x2, то есть состоящий из 5 строк и 2 столбцов.\n",
    "Первый столбец должен содержать числа 1, 2, 3, 3, 1, а второй - числа 6, 8, 11, 10, 7. Будем считать,\n",
    "что каждый столбец - это признак, а строка - наблюдение. Затем найдите среднее значение по\n",
    "каждому признаку, используя метод mean массива Numpy. Результат запишите в массив mean_a, в\n",
    "нем должно быть 2 элемента."
   ]
  },
  {
   "cell_type": "code",
   "execution_count": 77,
   "metadata": {
    "scrolled": true
   },
   "outputs": [
    {
     "name": "stdout",
     "output_type": "stream",
     "text": [
      "[ 0  1  2  3  4  5  6  7  8  9 10]\n"
     ]
    }
   ],
   "source": [
    "import numpy as np\n",
    "a = np.array([[1, 2, 3, 3, 1], [6, 8, 11, 10, 7]])\n",
    "a = a.transpose()\n",
    "print(a)\n",
    "mean_a = np.mean(a, axis = 0)\n",
    "print(mean_a)"
   ]
  },
  {
   "cell_type": "markdown",
   "metadata": {},
   "source": [
    "### Задание 2\n",
    "Вычислите массив a_centered, отняв от значений массива “а” средние значения соответствующих\n",
    "признаков, содержащиеся в массиве mean_a. Вычисление должно производиться в одно действие.\n",
    "Получившийся массив должен иметь размер 5x2."
   ]
  },
  {
   "cell_type": "code",
   "execution_count": 78,
   "metadata": {},
   "outputs": [
    {
     "name": "stdout",
     "output_type": "stream",
     "text": [
      "[[-1.  -2.4]\n",
      " [ 0.  -0.4]\n",
      " [ 1.   2.6]\n",
      " [ 1.   1.6]\n",
      " [-1.  -1.4]]\n"
     ]
    }
   ],
   "source": [
    "a_centered = a - mean_a\n",
    "print(a_centered)"
   ]
  },
  {
   "cell_type": "markdown",
   "metadata": {},
   "source": [
    "### Задание 3\n",
    "Найдите скалярное произведение столбцов массива a_centered. В результате должна получиться\n",
    "величина a_centered_sp. Затем поделите a_centered_sp на N-1, где N - число наблюдений."
   ]
  },
  {
   "cell_type": "code",
   "execution_count": 79,
   "metadata": {
    "vscode": {
     "languageId": "markdown"
    }
   },
   "outputs": [
    {
     "name": "stdout",
     "output_type": "stream",
     "text": [
      "[[-1.  -2.4]\n",
      " [ 0.  -0.4]\n",
      " [ 1.   2.6]\n",
      " [ 1.   1.6]\n",
      " [-1.  -1.4]]\n"
     ]
    }
   ],
   "source": [
    "col1 = a_centered.T[0]\n",
    "col2 = a_centered.T[1]\n",
    "\n",
    "a_centered_sp = col1 @ col2\n",
    "print(a_centered_sp)\n",
    "\n",
    "n = a_centered.shape[0]\n",
    "\n",
    "res = a_centered_sp / (n - 1)\n",
    "print(res)"
   ]
  },
  {
   "cell_type": "markdown",
   "metadata": {},
   "source": [
    "### Задание 4\n",
    "Число, которое мы получили в конце задания 3 является ковариацией двух признаков, содержащихся\n",
    "в массиве “а”. В задании 4 мы делили сумму произведений центрированных признаков на N-1, а не на\n",
    "N, поэтому полученная нами величина является несмещенной оценкой ковариации.\n",
    "\n",
    "В этом задании проверьте получившееся число, вычислив ковариацию еще одним способом - с\n",
    "помощью функции np.cov. В качестве аргумента m функция np.cov должна принимать\n",
    "транспонированный массив “a”. В получившейся ковариационной матрице (массив Numpy размером\n",
    "2x2) искомое значение ковариации будет равно элементу в строке с индексом 0 и столбце с индексом\n",
    "1."
   ]
  },
  {
   "cell_type": "code",
   "execution_count": 80,
   "metadata": {},
   "outputs": [
    {
     "data": {
      "text/plain": [
       "2.0"
      ]
     },
     "execution_count": 80,
     "metadata": {},
     "output_type": "execute_result"
    }
   ],
   "source": [
    "np.cov(a.T)[0, 1]"
   ]
  }
 ],
 "metadata": {
  "interpreter": {
   "hash": "31f2aee4e71d21fbe5cf8b01ff0e069b9275f58929596ceb00d14d90e3e16cd6"
  },
  "kernelspec": {
   "display_name": "Python 3",
   "language": "python",
   "name": "python3"
  },
  "language_info": {
   "codemirror_mode": {
    "name": "ipython",
    "version": 3
   },
   "file_extension": ".py",
   "mimetype": "text/x-python",
   "name": "python",
   "nbconvert_exporter": "python",
   "pygments_lexer": "ipython3",
   "version": "3.6.9"
  }
 },
 "nbformat": 4,
 "nbformat_minor": 2
}
